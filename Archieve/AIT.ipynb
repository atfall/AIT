{
 "cells": [
  {
   "cell_type": "markdown",
   "metadata": {
    "colab_type": "text",
    "id": "view-in-github"
   },
   "source": [
    "<a href=\"https://colab.research.google.com/github/atfall/AIT/blob/main/AIT.ipynb\" target=\"_parent\"><img src=\"https://colab.research.google.com/assets/colab-badge.svg\" alt=\"Open In Colab\"/></a>"
   ]
  },
  {
   "cell_type": "code",
   "execution_count": 2,
   "metadata": {
    "id": "6KAquzjL69v2"
   },
   "outputs": [],
   "source": [
    "with open('Project_data.txt') as file:\n",
    "    lines = file.readlines()\n",
    "    lines = [line.rstrip() for line in lines]\n",
    "file.close()"
   ]
  },
  {
   "cell_type": "code",
   "execution_count": 15,
   "metadata": {},
   "outputs": [
    {
     "data": {
      "text/plain": [
       "''"
      ]
     },
     "execution_count": 15,
     "metadata": {},
     "output_type": "execute_result"
    }
   ],
   "source": [
    "content = []\n",
    "for line in lines:\n",
    "    if ('@' in line) or ('%' in line):\n",
    "        x=1\n",
    "    else:\n",
    "        content.append(line)\n",
    "content.pop(0)"
   ]
  },
  {
   "cell_type": "code",
   "execution_count": 72,
   "metadata": {},
   "outputs": [
    {
     "name": "stdout",
     "output_type": "stream",
     "text": [
      "[['20' '0' '2' 'no' 'no' 'cholesterol' '28' 'low']\n",
      " ['21' '0' '4' 'no' 'no' 'no' '23' 'low']\n",
      " ['22' '0' '3' 'no' 'no' 'no' '23' 'low']\n",
      " ['23' '0' '3' 'no' 'no' 'no' '23' 'low']\n",
      " ['24' '0' '3' 'no' 'no' 'no' '21' 'low']\n",
      " ['25' '0' '3' 'no' 'no' 'no' '21' 'low']\n",
      " ['27' '0' '3' 'yes' 'no' 'cholesterol' '28' 'low']\n",
      " ['29' '0' '3' 'yes' 'no' 'cholesterol' '28' 'low']\n",
      " ['42' '1' '4' 'yes' 'no' 'no' '27' 'medium']\n",
      " ['42' '0' '3' 'yes' 'no' 'cholesterol' '27' 'medium']\n",
      " ['42' '0' '6' 'yes' 'yes' 'no' '20' 'medium']\n",
      " ['43' '0' '4' 'no' 'no' 'no' '27' 'medium']\n",
      " ['43' '0' '7' 'no' 'no' 'no' '21' 'medium']\n",
      " ['43' '2' '8' 'no' 'yes' 'no' '27' 'medium']\n",
      " ['44' '0' '4' 'no' 'no' 'no' '28' 'medium']\n",
      " ['44' '0' '4' 'no' 'no' 'no' '20' 'low']\n",
      " ['44' '0' '6' 'yes' 'no' 'no' '22' 'medium']\n",
      " ['44' '0' '2' 'no' 'no' 'cholesterol' '28' 'medium']\n",
      " ['44' '0' '8' 'yes' 'yes' 'no' '21' 'medium']\n",
      " ['44' '0' '6' 'yes' 'yes' 'no' '28' 'medium']\n",
      " ['44' '0' '6' 'no' 'yes' 'cholesterol' '28' 'medium']\n",
      " ['45' '0' '8' 'yes' 'no' 'no' '29' 'medium']\n",
      " ['45' '0' '2' 'yes' 'no' 'no' '29' 'medium']\n",
      " ['45' '0' '7' 'yes' 'no' 'cholesterol' '23' 'medium']\n",
      " ['45' '0' '4' 'yes' 'no' 'no' '30' 'medium']\n",
      " ['45' '0' '9' 'no' 'no' 'no' '30' 'medium']\n",
      " ['46' '0' '6' 'yes' 'no' 'cholesterol' '29' 'medium']\n",
      " ['46' '2' '7' 'no' 'yes' 'no' '30' 'high']\n",
      " ['46' '0' '8' 'no' 'yes' 'no' '25' 'medium']\n",
      " ['48' '0' '9' 'no' 'yes' 'no' '29' 'high']\n",
      " ['48' '1' '3' 'no' 'no' 'no' '28' 'medium']\n",
      " ['49' '0' '4' 'yes' 'no' 'diabetes' '27' 'medium']\n",
      " ['49' '0' '8' 'yes' 'no' 'cholesterol' '27' 'medium']\n",
      " ['49' '1' '2' 'no' 'no' 'no' '22' 'low']\n",
      " ['49' '1' '6' 'yes' 'no' 'no' '23' 'medium']\n",
      " ['49' '2' '12' 'yes' 'yes' 'heart' '34' 'high']\n",
      " ['50' '0' '3' 'no' 'no' 'no' '27' 'medium']\n",
      " ['50' '0' '3' 'no' 'no' 'cholesterol' '27' 'medium']\n",
      " ['50' '0' '3' 'no' 'no' 'no' '21' 'low']\n",
      " ['50' '0' '7' 'no' 'yes' 'no' '22' 'medium']\n",
      " ['51' '0' '2' 'no' 'no' 'no' '23' 'low']\n",
      " ['51' '0' '4' 'yes' 'no' 'no' '24' 'low']\n",
      " ['51' '0' '2' 'no' 'no' 'cholesterol' '25' 'high']\n",
      " ['51' '0' '2' 'no' 'no' 'heart' '24' 'high']\n",
      " ['51' '0' '4' 'no' 'no' 'no' '23' 'low']\n",
      " ['51' '0' '7' 'no' 'yes' 'diabetes' '24' 'high']\n",
      " ['51' '2' '2' 'yes' 'yes' 'diabetes' '26' 'high']\n",
      " ['52' '2' '8' 'no' 'no' 'heart' '31' 'high']\n",
      " ['52' '0' '3' 'yes' 'no' 'no' '22' 'low']\n",
      " ['52' '2' '12' 'yes' 'yes' 'diabetes' '27' 'high']\n",
      " ['52' '0' '11' 'yes' 'no' 'cholesterol' '29' 'high']\n",
      " ['53' '0' '3' 'no' 'no' 'no' '24' 'low']\n",
      " ['53' '0' '2' 'no' 'no' 'heart' '23' 'high']\n",
      " ['53' '0' '5' 'no' 'no' 'no' '25' 'low']\n",
      " ['53' '0' '0' 'yes' 'no' 'cholesterol' '27' 'high']\n",
      " ['53' '0' '2' 'no' 'yes' 'heart' '24' 'high']\n",
      " ['53' '0' '5' 'no' 'no' 'no' '24' 'low']\n",
      " ['53' '0' '2' 'yes' 'no' 'heart' '24' 'high']\n",
      " ['53' '0' '2' 'no' 'yes' 'cholesterol' '33' 'high']\n",
      " ['54' '0' '5' 'no' 'no' 'heart' '31' 'high']\n",
      " ['54' '0' '4' 'no' 'no' 'no' '25' 'low']\n",
      " ['54' '0' '3' 'no' 'no' 'no' '21' 'high']\n",
      " ['54' '1' '3' 'no' 'no' 'no' '23' 'low']\n",
      " ['54' '0' '3' 'no' 'no' 'no' '25' 'low']\n",
      " ['54' '0' '12' 'no' 'no' 'no' '27' 'high']\n",
      " ['54' '0' '3' 'no' 'no' 'no' '24' 'low']\n",
      " ['54' '0' '8' 'no' 'yes' 'heart' '24' 'high']\n",
      " ['54' '0' '4' 'yes' 'yes' 'diabetes' '27' 'high']\n",
      " ['55' '0' '1' 'no' 'no' 'heart' '22' 'high']\n",
      " ['55' '0' '2' 'no' 'no' 'no' '22' 'low']\n",
      " ['55' '0' '1' 'no' 'yes' 'heart' '24' 'high']\n",
      " ['55' '0' '11' 'yes' 'no' 'heart' '24' 'high']\n",
      " ['55' '0' '5' 'no' 'no' 'no' '24' 'low']\n",
      " ['55' '0' '2' 'no' 'no' 'no' '24' 'low']\n",
      " ['55' '0' '4' 'no' 'yes' 'cholesterol' '28' 'high']\n",
      " ['55' '1' '4' 'yes' 'yes' 'no' '27' 'high']\n",
      " ['56' '1' '4' 'no' 'no' 'no' '21' 'low']\n",
      " ['56' '0' '4' 'no' 'no' 'heart' '31' 'high']\n",
      " ['56' '1' '5' 'yes' 'yes' 'no' '28' 'high']\n",
      " ['56' '0' '2' 'no' 'no' 'no' '28' 'high']\n",
      " ['56' '0' '3' 'no' 'no' 'no' '29' 'high']\n",
      " ['56' '3' '5' 'no' 'no' 'diabetes' '32' 'high']\n",
      " ['56' '1' '10' 'no' 'yes' 'diabetes' '27' 'high']\n",
      " ['56' '1' '2' 'no' 'yes' 'cholesterol' '28' 'high']\n",
      " ['57' '0' '4' 'yes' 'no' 'no' '27' 'high']\n",
      " ['58' '0' '0' 'no' 'no' 'no' '25' 'high']\n",
      " ['58' '0' '0' 'yes' 'no' 'heart' '31' 'high']\n",
      " ['58' '0' '2' 'no' 'no' 'no' '23' 'low']\n",
      " ['58' '1' '5' 'no' 'no' 'diabetes' '27' 'medium']\n",
      " ['61' '0' '3' 'no' 'no' 'no' '22' 'low']\n",
      " ['61' '0' '3' 'no' 'no' 'no' '32' 'high']\n",
      " ['61' '0' '3' 'no' 'no' 'no' '23' 'low']\n",
      " ['61' '0' '3' 'no' 'no' 'no' '22' 'low']\n",
      " ['61' '0' '2' 'no' 'yes' 'diabetes' '30' 'high']\n",
      " ['61' '0' '12' 'yes' 'yes' 'heart' '31' 'high']\n",
      " ['61' '1' '14' 'no' 'yes' 'diabetes' '27' 'high']\n",
      " ['66' '0' '0' 'no' 'no' 'no' '27' 'high']\n",
      " ['66' '2' '6' 'no' 'yes' 'diabetes' '34' 'high']\n",
      " ['72' '0' '3' 'no' 'yes' 'no' '27' 'high']\n",
      " ['72' '0' '4' 'no' 'no' 'no' '21' 'low']\n",
      " ['72' '0' '9' 'yes' 'no' 'no' '25' 'medium']\n",
      " ['72' '0' '3' 'yes' 'no' 'no' '21' 'low']\n",
      " ['72' '0' '3' 'no' 'no' 'no' '20' 'low']\n",
      " ['72' '0' '13' 'no' 'yes' 'cholesterol' '30' 'high']\n",
      " ['72' '0' '3' 'no' 'no' 'no' '23' 'low']\n",
      " ['72' '0' '15' 'no' 'yes' 'diabetes' '28' 'high']\n",
      " ['77' '0' '3' 'no' 'no' 'no' '20' 'low']\n",
      " ['77' '0' '12' 'no' 'yes' 'diabetes' '28' 'high']\n",
      " ['77' '0' '9' 'yes' 'yes' 'cholesterol' '33' 'high']\n",
      " ['77' '4' '13' 'yes' 'yes' 'diabetes' '28' 'high']\n",
      " ['88' '1' '6' 'no' 'no' 'heart' '31' 'high']\n",
      " ['88' '0' '4' 'no' 'no' 'no' '21' 'low']\n",
      " ['88' '0' '2' 'yes' 'yes' 'no' '21' 'low']\n",
      " ['88' '0' '2' 'no' 'no' 'no' '22' 'low']\n",
      " ['88' '2' '18' 'yes' 'yes' 'no' '28' 'high']\n",
      " ['88' '1' '5' 'no' 'yes' 'diabetes' '33' 'high']\n",
      " ['88' '2' '17' 'no' 'yes' 'diabetes' '32' 'high']]\n"
     ]
    }
   ],
   "source": [
    "import numpy as np\n",
    "holding_array = []\n",
    "for i in range(len(content)):\n",
    "    lineSplit = content[i].split(',')\n",
    "    holding_array.append(lineSplit)\n",
    "data = np.array(holding_array)\n",
    "print(data)"
   ]
  }
 ],
 "metadata": {
  "colab": {
   "authorship_tag": "ABX9TyPaHcJJG1MY7Tz8eKeF8gC2",
   "include_colab_link": true,
   "name": "AIT.ipynb",
   "provenance": []
  },
  "kernelspec": {
   "display_name": "Python 3 (ipykernel)",
   "language": "python",
   "name": "python3"
  },
  "language_info": {
   "codemirror_mode": {
    "name": "ipython",
    "version": 3
   },
   "file_extension": ".py",
   "mimetype": "text/x-python",
   "name": "python",
   "nbconvert_exporter": "python",
   "pygments_lexer": "ipython3",
   "version": "3.7.10"
  }
 },
 "nbformat": 4,
 "nbformat_minor": 1
}
