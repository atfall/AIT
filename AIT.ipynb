{
 "cells": [
  {
   "cell_type": "markdown",
   "metadata": {
    "colab_type": "text",
    "id": "view-in-github"
   },
   "source": [
    "<a href=\"https://colab.research.google.com/github/atfall/AIT/blob/main/AIT.ipynb\" target=\"_parent\"><img src=\"https://colab.research.google.com/assets/colab-badge.svg\" alt=\"Open In Colab\"/></a>"
   ]
  },
  {
   "cell_type": "code",
   "execution_count": 3,
   "metadata": {
    "id": "6KAquzjL69v2"
   },
   "outputs": [],
   "source": [
    "with open('Project_data.txt') as file:\n",
    "    lines = file.readlines()\n",
    "    lines = [line.rstrip() for line in lines]\n",
    "file.close()"
   ]
  },
  {
   "cell_type": "code",
   "execution_count": 5,
   "metadata": {},
   "outputs": [
    {
     "name": "stdout",
     "output_type": "stream",
     "text": [
      "['20,0,2,no,no,cholesterol,28,low', '21,0,4,no,no,no,23,low', '22,0,3,no,no,no,23,low', '23,0,3,no,no,no,23,low', '24,0,3,no,no,no,21,low', '25,0,3,no,no,no,21,low', '27,0,3,yes,no,cholesterol,28,low', '29,0,3,yes,no,cholesterol,28,low', '42,1,4,yes,no,no,27,medium', '42,0,3,yes,no,cholesterol,27,medium', '42,0,6,yes,yes,no,20,medium', '43,0,4,no,no,no,27,medium', '43,0,7,no,no,no,21,medium', '43,2,8,no,yes,no,27,medium', '44,0,4,no,no,no,28,medium', '44,0,4,no,no,no,20,low', '44,0,6,yes,no,no,22,medium', '44,0,2,no,no,cholesterol,28,medium', '44,0,8,yes,yes,no,21,medium', '44,0,6,yes,yes,no,28,medium', '44,0,6,no,yes,cholesterol,28,medium', '45,0,8,yes,no,no,29,medium', '45,0,2,yes,no,no,29,medium', '45,0,7,yes,no,cholesterol,23,medium', '45,0,4,yes,no,no,30,medium', '45,0,9,no,no,no,30,medium', '46,0,6,yes,no,cholesterol,29,medium', '46,2,7,no,yes,no,30,high', '46,0,8,no,yes,no,25,medium', '48,0,9,no,yes,no,29,high', '48,1,3,no,no,no,28,medium', '49,0,4,yes,no,diabetes,27,medium', '49,0,8,yes,no,cholesterol,27,medium', '49,1,2,no,no,no,22,low', '49,1,6,yes,no,no,23,medium', '49,2,12,yes,yes,heart,34,high', '50,0,3,no,no,no,27,medium', '50,0,3,no,no,cholesterol,27,medium', '50,0,3,no,no,no,21,low', '50,0,7,no,yes,no,22,medium', '51,0,2,no,no,no,23,low', '51,0,4,yes,no,no,24,low', '51,0,2,no,no,cholesterol,25,high', '51,0,2,no,no,heart,24,high', '51,0,4,no,no,no,23,low', '51,0,7,no,yes,diabetes,24,high', '51,2,2,yes,yes,diabetes,26,high', '52,2,8,no,no,heart,31,high', '52,0,3,yes,no,no,22,low', '52,2,12,yes,yes,diabetes,27,high', '52,0,11,yes,no,cholesterol,29,high', '53,0,3,no,no,no,24,low', '53,0,2,no,no,heart,23,high', '53,0,5,no,no,no,25,low', '53,0,0,yes,no,cholesterol,27,high', '53,0,2,no,yes,heart,24,high', '53,0,5,no,no,no,24,low', '53,0,2,yes,no,heart,24,high', '53,0,2,no,yes,cholesterol,33,high', '54,0,5,no,no,heart,31,high', '54,0,4,no,no,no,25,low', '54,0,3,no,no,no,21,high', '54,1,3,no,no,no,23,low', '54,0,3,no,no,no,25,low', '54,0,12,no,no,no,27,high', '54,0,3,no,no,no,24,low', '54,0,8,no,yes,heart,24,high', '54,0,4,yes,yes,diabetes,27,high', '55,0,1,no,no,heart,22,high', '55,0,2,no,no,no,22,low', '55,0,1,no,yes,heart,24,high', '55,0,11,yes,no,heart,24,high', '55,0,5,no,no,no,24,low', '55,0,2,no,no,no,24,low', '55,0,4,no,yes,cholesterol,28,high', '55,1,4,yes,yes,no,27,high', '56,1,4,no,no,no,21,low', '56,0,4,no,no,heart,31,high', '56,1,5,yes,yes,no,28,high', '56,0,2,no,no,no,28,high', '56,0,3,no,no,no,29,high', '56,3,5,no,no,diabetes,32,high', '56,1,10,no,yes,diabetes,27,high', '56,1,2,no,yes,cholesterol,28,high', '57,0,4,yes,no,no,27,high', '58,0,0,no,no,no,25,high', '58,0,0,yes,no,heart,31,high', '58,0,2,no,no,no,23,low', '58,1,5,no,no,diabetes,27,medium', '61,0,3,no,no,no,22,low', '61,0,3,no,no,no,32,high', '61,0,3,no,no,no,23,low', '61,0,3,no,no,no,22,low', '61,0,2,no,yes,diabetes,30,high', '61,0,12,yes,yes,heart,31,high', '61,1,14,no,yes,diabetes,27,high', '66,0,0,no,no,no,27,high', '66,2,6,no,yes,diabetes,34,high', '72,0,3,no,yes,no,27,high', '72,0,4,no,no,no,21,low', '72,0,9,yes,no,no,25,medium', '72,0,3,yes,no,no,21,low', '72,0,3,no,no,no,20,low', '72,0,13,no,yes,cholesterol,30,high', '72,0,3,no,no,no,23,low', '72,0,15,no,yes,diabetes,28,high', '77,0,3,no,no,no,20,low', '77,0,12,no,yes,diabetes,28,high', '77,0,9,yes,yes,cholesterol,33,high', '77,4,13,yes,yes,diabetes,28,high', '88,1,6,no,no,heart,31,high', '88,0,4,no,no,no,21,low', '88,0,2,yes,yes,no,21,low', '88,0,2,no,no,no,22,low', '88,2,18,yes,yes,no,28,high', '88,1,5,no,yes,diabetes,33,high', '88,2,17,no,yes,diabetes,32,high']\n"
     ]
    }
   ],
   "source": [
    "content = []\n",
    "for line in lines:\n",
    "    if ('@' in line) or ('%' in line):\n",
    "        x=1\n",
    "    else:\n",
    "        content.append(line)\n",
    "content.pop(0)\n",
    "print(content)"
   ]
  }
 ],
 "metadata": {
  "colab": {
   "authorship_tag": "ABX9TyPaHcJJG1MY7Tz8eKeF8gC2",
   "include_colab_link": true,
   "name": "AIT.ipynb",
   "provenance": []
  },
  "kernelspec": {
   "display_name": "Python 3 (ipykernel)",
   "language": "python",
   "name": "python3"
  },
  "language_info": {
   "codemirror_mode": {
    "name": "ipython",
    "version": 3
   },
   "file_extension": ".py",
   "mimetype": "text/x-python",
   "name": "python",
   "nbconvert_exporter": "python",
   "pygments_lexer": "ipython3",
   "version": "3.7.10"
  }
 },
 "nbformat": 4,
 "nbformat_minor": 1
}
